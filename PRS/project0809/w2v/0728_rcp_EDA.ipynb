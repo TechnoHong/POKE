{
  "nbformat": 4,
  "nbformat_minor": 0,
  "metadata": {
    "colab": {
      "name": "0728_rcp_EDA.ipynb",
      "provenance": [],
      "collapsed_sections": []
    },
    "kernelspec": {
      "name": "python3",
      "display_name": "Python 3"
    },
    "language_info": {
      "name": "python"
    }
  },
  "cells": [
    {
      "cell_type": "code",
      "metadata": {
        "id": "Ku0L9FTld768"
      },
      "source": [
        "import pandas as pd\n",
        "import numpy as np\n",
        "from gensim.models import Word2Vec"
      ],
      "execution_count": null,
      "outputs": []
    },
    {
      "cell_type": "code",
      "metadata": {
        "id": "R1RLlUgMok6N"
      },
      "source": [
        "import json"
      ],
      "execution_count": null,
      "outputs": []
    },
    {
      "cell_type": "code",
      "metadata": {
        "id": "a7k02feRsjos"
      },
      "source": [
        "with open('0727_recipe(csv)2.json', 'r') as f:\n",
        "  rcp_json = json.loads(f.read())"
      ],
      "execution_count": null,
      "outputs": []
    },
    {
      "cell_type": "code",
      "metadata": {
        "id": "ajlZcHqttMmh"
      },
      "source": [
        "df2 = pd.json_normalize(rcp_json, record_path=['ingre_list'], meta=['id','name','recipe','tag'])"
      ],
      "execution_count": null,
      "outputs": []
    },
    {
      "cell_type": "code",
      "metadata": {
        "colab": {
          "base_uri": "https://localhost:8080/",
          "height": 204
        },
        "id": "pt1PseiFwtf_",
        "outputId": "de7c05c0-9441-482f-82e3-d27b6143fbde"
      },
      "source": [
        "df2[:5]"
      ],
      "execution_count": null,
      "outputs": [
        {
          "output_type": "execute_result",
          "data": {
            "text/html": [
              "<div>\n",
              "<style scoped>\n",
              "    .dataframe tbody tr th:only-of-type {\n",
              "        vertical-align: middle;\n",
              "    }\n",
              "\n",
              "    .dataframe tbody tr th {\n",
              "        vertical-align: top;\n",
              "    }\n",
              "\n",
              "    .dataframe thead th {\n",
              "        text-align: right;\n",
              "    }\n",
              "</style>\n",
              "<table border=\"1\" class=\"dataframe\">\n",
              "  <thead>\n",
              "    <tr style=\"text-align: right;\">\n",
              "      <th></th>\n",
              "      <th>ingre_name</th>\n",
              "      <th>ingre_count</th>\n",
              "      <th>ingre_unit</th>\n",
              "      <th>id</th>\n",
              "      <th>name</th>\n",
              "      <th>recipe</th>\n",
              "      <th>tag</th>\n",
              "    </tr>\n",
              "  </thead>\n",
              "  <tbody>\n",
              "    <tr>\n",
              "      <th>0</th>\n",
              "      <td>박력분</td>\n",
              "      <td>150</td>\n",
              "      <td>g</td>\n",
              "      <td>1011256</td>\n",
              "      <td>바삭하고 고소한 애플파이</td>\n",
              "      <td>[1. 사과는 껍질을 벗겨 씨를 제거하고 8등분 한 후 8mm 두께로 은행잎 모양으...</td>\n",
              "      <td>사과, 파이</td>\n",
              "    </tr>\n",
              "    <tr>\n",
              "      <th>1</th>\n",
              "      <td>강력분</td>\n",
              "      <td>100</td>\n",
              "      <td>g</td>\n",
              "      <td>1011256</td>\n",
              "      <td>바삭하고 고소한 애플파이</td>\n",
              "      <td>[1. 사과는 껍질을 벗겨 씨를 제거하고 8등분 한 후 8mm 두께로 은행잎 모양으...</td>\n",
              "      <td>사과, 파이</td>\n",
              "    </tr>\n",
              "    <tr>\n",
              "      <th>2</th>\n",
              "      <td>버터</td>\n",
              "      <td>220</td>\n",
              "      <td>g</td>\n",
              "      <td>1011256</td>\n",
              "      <td>바삭하고 고소한 애플파이</td>\n",
              "      <td>[1. 사과는 껍질을 벗겨 씨를 제거하고 8등분 한 후 8mm 두께로 은행잎 모양으...</td>\n",
              "      <td>사과, 파이</td>\n",
              "    </tr>\n",
              "    <tr>\n",
              "      <th>3</th>\n",
              "      <td>소금</td>\n",
              "      <td>1</td>\n",
              "      <td>작은술</td>\n",
              "      <td>1011256</td>\n",
              "      <td>바삭하고 고소한 애플파이</td>\n",
              "      <td>[1. 사과는 껍질을 벗겨 씨를 제거하고 8등분 한 후 8mm 두께로 은행잎 모양으...</td>\n",
              "      <td>사과, 파이</td>\n",
              "    </tr>\n",
              "    <tr>\n",
              "      <th>4</th>\n",
              "      <td>물</td>\n",
              "      <td>100</td>\n",
              "      <td>g</td>\n",
              "      <td>1011256</td>\n",
              "      <td>바삭하고 고소한 애플파이</td>\n",
              "      <td>[1. 사과는 껍질을 벗겨 씨를 제거하고 8등분 한 후 8mm 두께로 은행잎 모양으...</td>\n",
              "      <td>사과, 파이</td>\n",
              "    </tr>\n",
              "  </tbody>\n",
              "</table>\n",
              "</div>"
            ],
            "text/plain": [
              "  ingre_name  ...     tag\n",
              "0        박력분  ...  사과, 파이\n",
              "1        강력분  ...  사과, 파이\n",
              "2         버터  ...  사과, 파이\n",
              "3         소금  ...  사과, 파이\n",
              "4          물  ...  사과, 파이\n",
              "\n",
              "[5 rows x 7 columns]"
            ]
          },
          "metadata": {
            "tags": []
          },
          "execution_count": 62
        }
      ]
    },
    {
      "cell_type": "code",
      "metadata": {
        "id": "TUmCvS3iw273"
      },
      "source": [
        "df2 = df2.groupby('id').agg({'name':'first',\n",
        "                               'recipe':'first',\n",
        "                               'tag':'first',\n",
        "                               'ingre_name':', '.join}).reset_index()"
      ],
      "execution_count": null,
      "outputs": []
    },
    {
      "cell_type": "code",
      "metadata": {
        "colab": {
          "base_uri": "https://localhost:8080/",
          "height": 204
        },
        "id": "irezzGNMyh9H",
        "outputId": "53ce4b08-bece-4f58-e8ec-0e76a3115b6b"
      },
      "source": [
        "df2[:5]"
      ],
      "execution_count": null,
      "outputs": [
        {
          "output_type": "execute_result",
          "data": {
            "text/html": [
              "<div>\n",
              "<style scoped>\n",
              "    .dataframe tbody tr th:only-of-type {\n",
              "        vertical-align: middle;\n",
              "    }\n",
              "\n",
              "    .dataframe tbody tr th {\n",
              "        vertical-align: top;\n",
              "    }\n",
              "\n",
              "    .dataframe thead th {\n",
              "        text-align: right;\n",
              "    }\n",
              "</style>\n",
              "<table border=\"1\" class=\"dataframe\">\n",
              "  <thead>\n",
              "    <tr style=\"text-align: right;\">\n",
              "      <th></th>\n",
              "      <th>id</th>\n",
              "      <th>name</th>\n",
              "      <th>recipe</th>\n",
              "      <th>tag</th>\n",
              "      <th>ingre_name</th>\n",
              "    </tr>\n",
              "  </thead>\n",
              "  <tbody>\n",
              "    <tr>\n",
              "      <th>0</th>\n",
              "      <td>1011256</td>\n",
              "      <td>바삭하고 고소한 애플파이</td>\n",
              "      <td>[1. 사과는 껍질을 벗겨 씨를 제거하고 8등분 한 후 8mm 두께로 은행잎 모양으...</td>\n",
              "      <td>사과, 파이</td>\n",
              "      <td>박력분, 강력분, 버터, 소금, 물</td>\n",
              "    </tr>\n",
              "    <tr>\n",
              "      <th>1</th>\n",
              "      <td>1047204</td>\n",
              "      <td>달달한 바나나 강정</td>\n",
              "      <td>[1. 바나나는 껍질을 벗겨놓고 계란은 풀어놓아요., 2. 바나나를 한 입 크기로 ...</td>\n",
              "      <td>강정</td>\n",
              "      <td>바나나, 밀가루, 계란, 빵가루</td>\n",
              "    </tr>\n",
              "    <tr>\n",
              "      <th>2</th>\n",
              "      <td>1058215</td>\n",
              "      <td>저렴하고 맛있는 코다리간장조림</td>\n",
              "      <td>[1. 코다리는 달리 손질할 것이 많이 없어요. 그저 머리부분좀 잘라내고, 꼬리쪽 ...</td>\n",
              "      <td>장조림, 코다리조림</td>\n",
              "      <td>코다리, 청양고추</td>\n",
              "    </tr>\n",
              "    <tr>\n",
              "      <th>3</th>\n",
              "      <td>1058543</td>\n",
              "      <td>타르트지 만들기</td>\n",
              "      <td>[1. 버터크림화해서 타르트지 만들기는 버터를 깍둑 썰기하여 실온에 두어 말랑말랑한...</td>\n",
              "      <td>타르트</td>\n",
              "      <td>아몬드가루, 박력분, 슈가파우더, 달걀노른자, 우유</td>\n",
              "    </tr>\n",
              "    <tr>\n",
              "      <th>4</th>\n",
              "      <td>1146710</td>\n",
              "      <td>초코칩 소보로머핀 만들기</td>\n",
              "      <td>[1. 소보로 반죽을 먼저 만들어주세요. 살짝 말랑해진 버터 50g은 1cm주사위로...</td>\n",
              "      <td>머핀</td>\n",
              "      <td>달걀, 박력분, 베이킹파우더, 블루베리</td>\n",
              "    </tr>\n",
              "  </tbody>\n",
              "</table>\n",
              "</div>"
            ],
            "text/plain": [
              "        id               name  ...         tag                    ingre_name\n",
              "0  1011256      바삭하고 고소한 애플파이  ...      사과, 파이           박력분, 강력분, 버터, 소금, 물\n",
              "1  1047204         달달한 바나나 강정  ...          강정             바나나, 밀가루, 계란, 빵가루\n",
              "2  1058215  저렴하고 맛있는 코다리간장조림   ...  장조림, 코다리조림                     코다리, 청양고추\n",
              "3  1058543           타르트지 만들기  ...         타르트  아몬드가루, 박력분, 슈가파우더, 달걀노른자, 우유\n",
              "4  1146710      초코칩 소보로머핀 만들기  ...          머핀         달걀, 박력분, 베이킹파우더, 블루베리\n",
              "\n",
              "[5 rows x 5 columns]"
            ]
          },
          "metadata": {
            "tags": []
          },
          "execution_count": 64
        }
      ]
    },
    {
      "cell_type": "code",
      "metadata": {
        "id": "VaI6HzP-yky-"
      },
      "source": [
        "def arrToStr(arr):\n",
        "  return arr.str.replace(\"[^ㄱ-ㅎㅏ-ㅣ가-힣 ]\",\" \")\n",
        "\n",
        "df2['cleand'] = arrToStr(df2['ingre_name']) + ' ' + arrToStr(df2['tag'])"
      ],
      "execution_count": null,
      "outputs": []
    },
    {
      "cell_type": "code",
      "metadata": {
        "colab": {
          "base_uri": "https://localhost:8080/"
        },
        "id": "dAdxVzGA2rdl",
        "outputId": "479566d9-1aee-4741-86aa-1ea9f989048b"
      },
      "source": [
        "df2['cleand'].head()"
      ],
      "execution_count": null,
      "outputs": [
        {
          "output_type": "execute_result",
          "data": {
            "text/plain": [
              "0          박력분  강력분  버터  소금  물 사과  파이\n",
              "1                바나나  밀가루  계란  빵가루 강정\n",
              "2                코다리  청양고추 장조림  코다리조림\n",
              "3    아몬드가루  박력분  슈가파우더  달걀노른자  우유 타르트\n",
              "4            달걀  박력분  베이킹파우더  블루베리 머핀\n",
              "Name: cleand, dtype: object"
            ]
          },
          "metadata": {
            "tags": []
          },
          "execution_count": 71
        }
      ]
    },
    {
      "cell_type": "code",
      "metadata": {
        "colab": {
          "base_uri": "https://localhost:8080/"
        },
        "id": "eie54mfZ2z0E",
        "outputId": "61101f04-49c9-465e-b443-3ea15e839305"
      },
      "source": [
        "df2['cleand'].replace('', np.nan, inplace=True)\n",
        "df2 = df2[df2['cleand'].notna()]\n",
        "print(len(df2))"
      ],
      "execution_count": null,
      "outputs": [
        {
          "output_type": "stream",
          "text": [
            "9966\n"
          ],
          "name": "stdout"
        }
      ]
    },
    {
      "cell_type": "code",
      "metadata": {
        "id": "ab4ZHpA23wPW"
      },
      "source": [
        "corpus = []\n",
        "for w in df2['cleand']:\n",
        "  corpus.append(w.split())"
      ],
      "execution_count": null,
      "outputs": []
    },
    {
      "cell_type": "code",
      "metadata": {
        "colab": {
          "base_uri": "https://localhost:8080/"
        },
        "id": "nVbXd9kq3zFg",
        "outputId": "0756596f-bffd-4d0f-d95a-b350d2dfd1b7"
      },
      "source": [
        "corpus[:10]"
      ],
      "execution_count": null,
      "outputs": [
        {
          "output_type": "execute_result",
          "data": {
            "text/plain": [
              "[['박력분', '강력분', '버터', '소금', '물', '사과', '파이'],\n",
              " ['바나나', '밀가루', '계란', '빵가루', '강정'],\n",
              " ['코다리', '청양고추', '장조림', '코다리조림'],\n",
              " ['아몬드가루', '박력분', '슈가파우더', '달걀노른자', '우유', '타르트'],\n",
              " ['달걀', '박력분', '베이킹파우더', '블루베리', '머핀'],\n",
              " ['닭', '감자', '당근', '양파', '파', '생강', '마늘', '청양고추', '건고추', '찜닭', '치킨'],\n",
              " ['물', '우유', '버터', '설탕', '소금', '박력분', '달걀', '요거트'],\n",
              " ['박력분', '버터', '설탕', '소금', '노른자', '레몬즙', '타르트'],\n",
              " ['포도', '젤라틴', '물', '푸딩'],\n",
              " ['박력분', '아몬드가루', '슈가파우더', '달걀흰자', '버터', '소금', '버터링쿠키', '버터쿠키', '아몬드쿠키']]"
            ]
          },
          "metadata": {
            "tags": []
          },
          "execution_count": 74
        }
      ]
    },
    {
      "cell_type": "code",
      "metadata": {
        "colab": {
          "base_uri": "https://localhost:8080/"
        },
        "id": "qzamtRvP3zkE",
        "outputId": "71f02615-dfda-42cf-bfdb-56799c91a61b"
      },
      "source": [
        "word2vec_model = Word2Vec(size=300, window=5, min_count=2, workers=-1)\n",
        "word2vec_model.build_vocab(corpus)\n",
        "word2vec_model.train(corpus, total_examples = word2vec_model.corpus_count, epochs=15)"
      ],
      "execution_count": null,
      "outputs": [
        {
          "output_type": "execute_result",
          "data": {
            "text/plain": [
              "(0, 0)"
            ]
          },
          "metadata": {
            "tags": []
          },
          "execution_count": 77
        }
      ]
    },
    {
      "cell_type": "code",
      "metadata": {
        "id": "CnQ37A0t4UpG"
      },
      "source": [
        "word2vec_model.save('0728w2v.model')"
      ],
      "execution_count": null,
      "outputs": []
    },
    {
      "cell_type": "code",
      "metadata": {
        "id": "7wIMh_X54ylz"
      },
      "source": [
        "df2.to_csv('0728rcp.csv', encoding='utf-8')"
      ],
      "execution_count": null,
      "outputs": []
    }
  ]
}